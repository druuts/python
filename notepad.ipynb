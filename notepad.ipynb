{
 "cells": [
  {
   "cell_type": "code",
   "execution_count": 11,
   "id": "4b4390d4",
   "metadata": {},
   "outputs": [
    {
     "ename": "IndentationError",
     "evalue": "unindent does not match any outer indentation level (<tokenize>, line 75)",
     "output_type": "error",
     "traceback": [
      "\u001b[1;36m  File \u001b[1;32m\"<tokenize>\"\u001b[1;36m, line \u001b[1;32m75\u001b[0m\n\u001b[1;33m    def __quitApplication(self)\u001b[0m\n\u001b[1;37m    ^\u001b[0m\n\u001b[1;31mIndentationError\u001b[0m\u001b[1;31m:\u001b[0m unindent does not match any outer indentation level\n"
     ]
    }
   ],
   "source": [
    "import tkinter\n",
    "import os\n",
    "from tkinter import *\n",
    "from tkinter.messagebox import *\n",
    "from tkinter.filedialog import *\n",
    "class Notepad:\n",
    "    __root = Tk()\n",
    "    __thisWidth = 300\n",
    "    __thisHeight = 300\n",
    "    __thisTextArea = Text(__root)\n",
    "    __thisMenuBar = Menu(__root)\n",
    "    __thisFileMenu = Menu(__thisMenuBar, tearoff=0)\n",
    "    __thisEditMenu = Menu(__thisMenuBar, tearoff=0)\n",
    "    __thisHelpMenu = Menu(__thisMenuBar, tearoff=0)\n",
    "    #adicionando scrollbar\n",
    "    __thisScrollBar = Scrollbar(__thisTextArea)\n",
    "    __file = None\n",
    "    def __init__(self, **kwargs):\n",
    "            #definir um icone\n",
    "            try:\n",
    "                self.__root.wm_iconbitmap(\"Notepad.ico\")\n",
    "            except:\n",
    "                pass\n",
    "            #definir tamanho da janela\n",
    "            try:\n",
    "                self.__thisWidth = kwargs[\"largura\"]\n",
    "            except:\n",
    "                pass\n",
    "            try:\n",
    "                self.__thisHeight = kwargs[\"altura\"]\n",
    "            except:\n",
    "                pass\n",
    "            #definir o título da janela\n",
    "            self.__root.title(\"Sem nome - Notepad\")\n",
    "            #centralizar a janela\n",
    "            screenWidth = self.__root.winfo_screenwidth()\n",
    "            screenHeight = self.__root.winfo_screenheight()\n",
    "            #para alinhar a esquerda\n",
    "            left = (screenWidth /2) - (self.__thisWidth/ 2)\n",
    "            #para alinhar a direita\n",
    "            top = (screenHeight /2) - (self.__thisHeight/ 2)\n",
    "            #para alinhar acima e abaixo\n",
    "            self.__root.geometry(\"%dx%d+%dx%d\" % (self.__thisWidth, self.__thisHeight, left, top))\n",
    "            #para deixar o tamanho da janela auto-ajustavel\n",
    "            self.__root.grid_rowconfigure(0, weight=1)\n",
    "            self.__root.grid_columnconfigure(0, weight=1)\n",
    "            #adicionando controles (icones)\n",
    "            self.__thisTextArea.grid(sticky=N + E + S + V)\n",
    "            #para abrir novo arquivo\n",
    "            self.__thisFileMenu.add_command(label=\"Novo\", command=self.__newFile)\n",
    "            #para abrir um arquivo existente\n",
    "            self.__thisFileMenu.add_command(label=\"Abrir\", command=self.__openFile)\n",
    "            #para salvar arquivo aberto\n",
    "            self.__thisFileMenu.add_command(label=\"Salvar\", command=self.__saveFile)\n",
    "            #para criar uma linha de dialogo\n",
    "            self.__thisFileMenu.add_separato()\n",
    "            self.__thisFileMenu.add_command(label=\"Sair\", command=self.__quitApplication)\n",
    "            self.__thisMenuBar.add.cascade(label=\"Arquivos\", menu=self.__thisFileMenu)\n",
    "            #para criar o \"cortar\"\n",
    "            self.__thisEditMenu.add_command(label=\"Cortar\", command=self.cut)\n",
    "            #para criar o \"copiar\"\n",
    "            self.__thisEditMenu.add_command(label=\"Copiar\", command=self.copy)\n",
    "            #para criar o \"colar\"\n",
    "            self.__thisEditMenu.add_command(label=\"Colar\", command=self.paste)\n",
    "            #para editar\n",
    "            self.__thisMenuBar.add_cascade(label=\"Editar\", menu=self.__thisEditBar)\n",
    "            #para criar a descrição\n",
    "            self.__thisHelpMenu.add_command(label=\"Sobre o Notepad\", command=self.__showAbout)\n",
    "            self.__thisMenuBar.add_command(label=\"Ajuda\", menu=self.__thisHelpMenu)\n",
    "            self.__rootConfig(menu=self.__thisMenuBar)\n",
    "            self.__thisScrollBar.pack(side=RIGHT, fill=Y)\n",
    "            #scrollbar vai se ajustar automaticamente\n",
    "            self.__thisScrollbar.config(command=self.__thisTextArea.yview)\n",
    "            self.__thisTextArea.config(yscrollcommand=self.__thisScrollBar.set)\n",
    "        def __quitApplication(self)\n",
    "            self.__root.destroy()\n",
    "        #sair\n",
    "        def __showAbout(self)\n",
    "            showinfo(\"Notepad\", \"Gustavo Dutra\")\n",
    "        def __openFile(self)\n",
    "            self.__file=askopenfilename(defaultextension=\".txt\", filetypes=[(\"All Files\", \"*.*\"), (\"Text Documents\", \"*.txt\")])\n",
    "        if self.__file ==\"\":\n",
    "            #sem arquivo para abrir\n",
    "            self.__file = None\n",
    "        else:\n",
    "            #tente abrir o arquivo\n",
    "            #defina o nome da janela\n",
    "            self.__root.title(os.path.basename(self.__file) + \" - Notepad\")\n",
    "            self.__thisextArea.delete(1,0, END)\n",
    "            file = open(self.__file, \"r\")\n",
    "            self.__thisTextArea.insert(1,0, file.read())\n",
    "            file.close()\n",
    "        def __newFile(self)\n",
    "            self.__root.title(\"Sem Nome - Notepad\")\n",
    "            self.__file = None\n",
    "            self.__thisTextArea.delete(1,0, END)\n",
    "        def __saveFile(self)\n",
    "            if self.__file == None\n",
    "                self.__file = asksaveasfilename(initialfile=\"Untitled.txt\", defaultextension=\".txt\", filetype=[(\"All Files\", \"*.*\"), (\"Text Documents, \".txt\")])\n",
    "                if self.__file ==\"\":\n",
    "                    self.__file = None\n",
    "                else:\n",
    "                    #tente salvar o arquivo\n",
    "                    file = open(self.__file, \"u\")\n",
    "                    file.write(self.__thisTextArea.get(1,0, END))\n",
    "                    file.close()\n",
    "                    #trocar o nome da janela\n",
    "                    self.__root.title(os.path.basename(self.__file) + \" - Notepad\")\n",
    "            else:\n",
    "                file = open(self.__file, \"u\")\n",
    "                file.write(self.__thisTextArea.get(1,0, END))\n",
    "                file.close\n",
    "        def __ cut(self)\n",
    "            self.__thisTextArea.event_generate(\"<<Cortar>>\")\n",
    "        def __ sopy(self)   \n",
    "            self.__thisTextArea.event_generate(\"<<Copiar>>\")\n",
    "        def __ paste(self)    \n",
    "            self.__thisTextArea.event_generate(\"<<Colar>>\")\n",
    "            #rode a aplicação principal\n",
    "            self.__root.mainloop()\n",
    "#rode a aplicação principal\n",
    "notepad = Notepad(width=600, height=400)\n",
    "notepad.run()"
   ]
  },
  {
   "cell_type": "code",
   "execution_count": null,
   "id": "ac695131",
   "metadata": {},
   "outputs": [],
   "source": []
  },
  {
   "cell_type": "code",
   "execution_count": 3,
   "id": "40bddcb2",
   "metadata": {},
   "outputs": [
    {
     "name": "stderr",
     "output_type": "stream",
     "text": [
      "ERROR: Could not find a version that satisfies the requirement os (from versions: none)\n",
      "ERROR: No matching distribution found for os\n"
     ]
    }
   ],
   "source": [
    "!pip install os"
   ]
  },
  {
   "cell_type": "code",
   "execution_count": 5,
   "id": "4a848208",
   "metadata": {},
   "outputs": [
    {
     "ename": "SyntaxError",
     "evalue": "invalid syntax (3167839864.py, line 2)",
     "output_type": "error",
     "traceback": [
      "\u001b[1;36m  File \u001b[1;32m\"C:\\Users\\gugad\\AppData\\Local\\Temp\\ipykernel_1264\\3167839864.py\"\u001b[1;36m, line \u001b[1;32m2\u001b[0m\n\u001b[1;33m    python -m tkinter\u001b[0m\n\u001b[1;37m              ^\u001b[0m\n\u001b[1;31mSyntaxError\u001b[0m\u001b[1;31m:\u001b[0m invalid syntax\n"
     ]
    }
   ],
   "source": [
    "import tkinter\n",
    "python -m tkinter"
   ]
  },
  {
   "cell_type": "code",
   "execution_count": null,
   "id": "b8041046",
   "metadata": {},
   "outputs": [],
   "source": []
  }
 ],
 "metadata": {
  "kernelspec": {
   "display_name": "Python 3 (ipykernel)",
   "language": "python",
   "name": "python3"
  },
  "language_info": {
   "codemirror_mode": {
    "name": "ipython",
    "version": 3
   },
   "file_extension": ".py",
   "mimetype": "text/x-python",
   "name": "python",
   "nbconvert_exporter": "python",
   "pygments_lexer": "ipython3",
   "version": "3.9.13"
  }
 },
 "nbformat": 4,
 "nbformat_minor": 5
}
