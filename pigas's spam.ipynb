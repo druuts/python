{
 "cells": [
  {
   "cell_type": "code",
   "execution_count": 9,
   "id": "f27e059f",
   "metadata": {},
   "outputs": [],
   "source": [
    "import pyautogui as pg\n",
    "import time\n",
    "\n",
    "time.sleep(5)\n",
    "pg.hotkey(\"ctrl\", \"tab\")\n",
    "pg.hotkey(\"ctrl\", \"tab\")\n",
    "\n"
   ]
  },
  {
   "cell_type": "code",
   "execution_count": 7,
   "id": "15efac87",
   "metadata": {},
   "outputs": [],
   "source": [
    "import pyautogui as pg\n",
    "import time\n",
    "\n",
    "time.sleep(3)\n",
    "\n",
    "i = 0\n",
    "\n",
    "while i < 10:\n",
    "    \n",
    "    print(\"pigas\")\n",
    "    i += 1"
   ]
  },
  {
   "cell_type": "code",
   "execution_count": null,
   "id": "b463033b",
   "metadata": {},
   "outputs": [],
   "source": []
  }
 ],
 "metadata": {
  "kernelspec": {
   "display_name": "Python 3 (ipykernel)",
   "language": "python",
   "name": "python3"
  },
  "language_info": {
   "codemirror_mode": {
    "name": "ipython",
    "version": 3
   },
   "file_extension": ".py",
   "mimetype": "text/x-python",
   "name": "python",
   "nbconvert_exporter": "python",
   "pygments_lexer": "ipython3",
   "version": "3.9.13"
  }
 },
 "nbformat": 4,
 "nbformat_minor": 5
}
