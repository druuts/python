{
 "cells": [
  {
   "cell_type": "code",
   "execution_count": null,
   "id": "e0cdd95f",
   "metadata": {},
   "outputs": [
    {
     "name": "stdout",
     "output_type": "stream",
     "text": [
      "Computador será desligado em 1 hora.\n",
      "01:49\r"
     ]
    }
   ],
   "source": [
    "import os\n",
    "import time\n",
    "\n",
    "# tempo em segundos para desligar o computador\n",
    "shutdown_time = 4000\n",
    "\n",
    "# contagem regressiva\n",
    "print(\"Computador será desligado em 1 hora.\")\n",
    "while shutdown_time:\n",
    "    mins, secs = divmod(shutdown_time, 60)\n",
    "    timeformat = '{:02d}:{:02d}'.format(mins, secs)\n",
    "    print(timeformat, end='\\r')\n",
    "    time.sleep(1)\n",
    "    shutdown_time -= 1\n",
    "\n",
    "# desligando o computador\n",
    "os.system(\"shutdown /s /t 1\")\n"
   ]
  },
  {
   "cell_type": "code",
   "execution_count": null,
   "id": "6dde6cba",
   "metadata": {},
   "outputs": [],
   "source": []
  }
 ],
 "metadata": {
  "kernelspec": {
   "display_name": "Python 3 (ipykernel)",
   "language": "python",
   "name": "python3"
  },
  "language_info": {
   "codemirror_mode": {
    "name": "ipython",
    "version": 3
   },
   "file_extension": ".py",
   "mimetype": "text/x-python",
   "name": "python",
   "nbconvert_exporter": "python",
   "pygments_lexer": "ipython3",
   "version": "3.9.13"
  }
 },
 "nbformat": 4,
 "nbformat_minor": 5
}
